{
 "cells": [
  {
   "cell_type": "markdown",
   "metadata": {},
   "source": [
    "# Continuous Control\n",
    "\n",
    "---\n",
    "\n",
    "You are welcome to use this coding environment to train your agent for the project.  Follow the instructions below to get started!\n",
    "\n",
    "### 1. Start the Environment\n",
    "\n",
    "Run the next code cell to install a few packages.  This line will take a few minutes to run!"
   ]
  },
  {
   "cell_type": "code",
   "execution_count": 1,
   "metadata": {},
   "outputs": [
    {
     "name": "stdout",
     "output_type": "stream",
     "text": [
      "\u001b[31mtensorflow 1.7.1 has requirement numpy>=1.13.3, but you'll have numpy 1.12.1 which is incompatible.\u001b[0m\r\n",
      "\u001b[31mipython 6.5.0 has requirement prompt-toolkit<2.0.0,>=1.0.15, but you'll have prompt-toolkit 2.0.10 which is incompatible.\u001b[0m\r\n"
     ]
    }
   ],
   "source": [
    "!pip -q install ./python"
   ]
  },
  {
   "cell_type": "markdown",
   "metadata": {},
   "source": [
    "The environments corresponding to both versions of the environment are already saved in the Workspace and can be accessed at the file paths provided below.  \n",
    "\n",
    "Please select one of the two options below for loading the environment."
   ]
  },
  {
   "cell_type": "code",
   "execution_count": 2,
   "metadata": {},
   "outputs": [
    {
     "name": "stderr",
     "output_type": "stream",
     "text": [
      "INFO:unityagents:\n",
      "'Academy' started successfully!\n",
      "Unity Academy name: Academy\n",
      "        Number of Brains: 1\n",
      "        Number of External Brains : 1\n",
      "        Lesson number : 0\n",
      "        Reset Parameters :\n",
      "\t\tgoal_speed -> 1.0\n",
      "\t\tgoal_size -> 5.0\n",
      "Unity brain name: ReacherBrain\n",
      "        Number of Visual Observations (per agent): 0\n",
      "        Vector Observation space type: continuous\n",
      "        Vector Observation space size (per agent): 33\n",
      "        Number of stacked Vector Observation: 1\n",
      "        Vector Action space type: continuous\n",
      "        Vector Action space size (per agent): 4\n",
      "        Vector Action descriptions: , , , \n"
     ]
    }
   ],
   "source": [
    "from unityagents import UnityEnvironment\n",
    "import numpy as np\n",
    "\n",
    "# select this option to load version 1 (with a single agent) of the environment\n",
    "env = UnityEnvironment(file_name='/data/Reacher_One_Linux_NoVis/Reacher_One_Linux_NoVis.x86_64')\n",
    "\n",
    "# select this option to load version 2 (with 20 agents) of the environment\n",
    "# env = UnityEnvironment(file_name='/data/Reacher_Linux_NoVis/Reacher.x86_64')"
   ]
  },
  {
   "cell_type": "markdown",
   "metadata": {},
   "source": [
    "Environments contain **_brains_** which are responsible for deciding the actions of their associated agents. Here we check for the first brain available, and set it as the default brain we will be controlling from Python."
   ]
  },
  {
   "cell_type": "code",
   "execution_count": 3,
   "metadata": {},
   "outputs": [],
   "source": [
    "# get the default brain\n",
    "brain_name = env.brain_names[0]\n",
    "brain = env.brains[brain_name]"
   ]
  },
  {
   "cell_type": "markdown",
   "metadata": {},
   "source": [
    "### 2. Examine the State and Action Spaces\n",
    "\n",
    "Run the code cell below to print some information about the environment."
   ]
  },
  {
   "cell_type": "code",
   "execution_count": 4,
   "metadata": {},
   "outputs": [
    {
     "name": "stdout",
     "output_type": "stream",
     "text": [
      "Number of agents: 1\n",
      "Size of each action: 4\n",
      "There are 1 agents. Each observes a state with length: 33\n",
      "The state for the first agent looks like: [  0.00000000e+00  -4.00000000e+00   0.00000000e+00   1.00000000e+00\n",
      "  -0.00000000e+00  -0.00000000e+00  -4.37113883e-08   0.00000000e+00\n",
      "   0.00000000e+00   0.00000000e+00   0.00000000e+00   0.00000000e+00\n",
      "   0.00000000e+00   0.00000000e+00  -1.00000000e+01   0.00000000e+00\n",
      "   1.00000000e+00  -0.00000000e+00  -0.00000000e+00  -4.37113883e-08\n",
      "   0.00000000e+00   0.00000000e+00   0.00000000e+00   0.00000000e+00\n",
      "   0.00000000e+00   0.00000000e+00   5.75471878e+00  -1.00000000e+00\n",
      "   5.55726671e+00   0.00000000e+00   1.00000000e+00   0.00000000e+00\n",
      "  -1.68164849e-01]\n"
     ]
    }
   ],
   "source": [
    "# reset the environment\n",
    "env_info = env.reset(train_mode=True)[brain_name]\n",
    "\n",
    "# number of agents\n",
    "num_agents = len(env_info.agents)\n",
    "print('Number of agents:', num_agents)\n",
    "\n",
    "# size of each action\n",
    "action_size = brain.vector_action_space_size\n",
    "print('Size of each action:', action_size)\n",
    "\n",
    "# examine the state space \n",
    "states = env_info.vector_observations\n",
    "state_size = states.shape[1]\n",
    "print('There are {} agents. Each observes a state with length: {}'.format(states.shape[0], state_size))\n",
    "print('The state for the first agent looks like:', states[0])"
   ]
  },
  {
   "cell_type": "markdown",
   "metadata": {},
   "source": [
    "### 3. Take Random Actions in the Environment\n",
    "\n",
    "In the next code cell, you will learn how to use the Python API to control the agent and receive feedback from the environment.\n",
    "\n",
    "Note that **in this coding environment, you will not be able to watch the agents while they are training**, and you should set `train_mode=True` to restart the environment."
   ]
  },
  {
   "cell_type": "code",
   "execution_count": 5,
   "metadata": {},
   "outputs": [
    {
     "name": "stdout",
     "output_type": "stream",
     "text": [
      "Total score (averaged over agents) this episode: 0.30999999307096004\n"
     ]
    }
   ],
   "source": [
    "env_info = env.reset(train_mode=True)[brain_name]      # reset the environment    \n",
    "states = env_info.vector_observations                  # get the current state (for each agent)\n",
    "scores = np.zeros(num_agents)                          # initialize the score (for each agent)\n",
    "while True:\n",
    "    actions = np.random.randn(num_agents, action_size) # select an action (for each agent)\n",
    "    actions = np.clip(actions, -1, 1)                  # all actions between -1 and 1\n",
    "    env_info = env.step(actions)[brain_name]           # send all actions to tne environment\n",
    "    next_states = env_info.vector_observations         # get next state (for each agent)\n",
    "    rewards = env_info.rewards                         # get reward (for each agent)\n",
    "    dones = env_info.local_done                        # see if episode finished\n",
    "    scores += env_info.rewards                         # update the score (for each agent)\n",
    "    states = next_states                               # roll over states to next time step\n",
    "    if np.any(dones):                                  # exit loop if episode finished\n",
    "        break\n",
    "print('Total score (averaged over agents) this episode: {}'.format(np.mean(scores)))"
   ]
  },
  {
   "cell_type": "markdown",
   "metadata": {},
   "source": [
    "When finished, you can close the environment."
   ]
  },
  {
   "cell_type": "code",
   "execution_count": 7,
   "metadata": {},
   "outputs": [],
   "source": [
    "# env.close()"
   ]
  },
  {
   "cell_type": "markdown",
   "metadata": {},
   "source": [
    "### 4. It's Your Turn!\n",
    "\n",
    "Now it's your turn to train your own agent to solve the environment!  A few **important notes**:\n",
    "- When training the environment, set `train_mode=True`, so that the line for resetting the environment looks like the following:\n",
    "```python\n",
    "env_info = env.reset(train_mode=True)[brain_name]\n",
    "```\n",
    "- To structure your work, you're welcome to work directly in this Jupyter notebook, or you might like to start over with a new file!  You can see the list of files in the workspace by clicking on **_Jupyter_** in the top left corner of the notebook.\n",
    "- In this coding environment, you will not be able to watch the agents while they are training.  However, **_after training the agents_**, you can download the saved model weights to watch the agents on your own machine! "
   ]
  },
  {
   "cell_type": "code",
   "execution_count": 6,
   "metadata": {},
   "outputs": [],
   "source": [
    "import matplotlib.pyplot as plt\n",
    "%matplotlib inline\n",
    "\n",
    "import numpy as np\n",
    "import random\n",
    "import time\n",
    "import torch\n",
    "import copy\n",
    "import torch.nn as nn\n",
    "import torch.nn.functional as F\n",
    "import torch.optim as optim\n",
    "\n",
    "\n",
    "from collections import deque\n",
    "from unityagents import UnityEnvironment\n",
    "from collections import namedtuple, deque"
   ]
  },
  {
   "cell_type": "markdown",
   "metadata": {},
   "source": [
    "### Run and delete later"
   ]
  },
  {
   "cell_type": "code",
   "execution_count": 15,
   "metadata": {},
   "outputs": [],
   "source": [
    "# def hidden_init(layer):\n",
    "#     fan_in = layer.weight.data.size()[0]\n",
    "#     lim = 1. / np.sqrt(fan_in)\n",
    "#     return (-lim, lim)\n",
    "\n",
    "# class Actor(nn.Module):\n",
    "#     \"\"\"Actor (Policy) Model.\"\"\"\n",
    "\n",
    "#     def __init__(self, state_size, action_size, seed, fc_units=128):\n",
    "#         \"\"\"Initialize parameters and build model.\n",
    "#         Params\n",
    "#         ======\n",
    "#             state_size (int): Dimension of each state\n",
    "#             action_size (int): Dimension of each action\n",
    "#             seed (int): Random seed\n",
    "#             fc1_units (int): Number of nodes in first hidden layer\n",
    "#             fc2_units (int): Number of nodes in second hidden layer\n",
    "#         \"\"\"\n",
    "#         super(Actor, self).__init__()\n",
    "#         self.seed = torch.manual_seed(seed)\n",
    "#         self.fc1 = nn.Linear(state_size, fc_units)\n",
    "#         self.fc2 = nn.Linear(fc_units, action_size)\n",
    "#         self.reset_parameters()\n",
    "\n",
    "#     def reset_parameters(self):\n",
    "#         self.fc1.weight.data.uniform_(*hidden_init(self.fc1))\n",
    "#         self.fc2.weight.data.uniform_(-3e-3, 3e-3)\n",
    "\n",
    "#     def forward(self, state):\n",
    "#         \"\"\"Build an actor (policy) network that maps states -> actions.\"\"\"\n",
    "#         x = F.relu(self.fc1(state))\n",
    "#         return F.tanh(self.fc2(x))\n",
    "\n",
    "\n",
    "# class Critic(nn.Module):\n",
    "#     \"\"\"Critic (Value) Model.\"\"\"\n",
    "\n",
    "#     def __init__(self, state_size, action_size, seed, fcs1_units=256, fc2_units=256, fc3_units=128):\n",
    "#         \"\"\"Initialize parameters and build model.\n",
    "#         Params\n",
    "#         ======\n",
    "#             state_size (int): Dimension of each state\n",
    "#             action_size (int): Dimension of each action\n",
    "#             seed (int): Random seed\n",
    "#             fcs1_units (int): Number of nodes in the first hidden layer\n",
    "#             fc2_units (int): Number of nodes in the second hidden layer\n",
    "#         \"\"\"\n",
    "#         super(Critic, self).__init__()\n",
    "#         self.seed = torch.manual_seed(seed)\n",
    "#         self.fcs1 = nn.Linear(state_size, fcs1_units)\n",
    "#         self.fc2 = nn.Linear(fcs1_units+action_size, fc2_units)\n",
    "#         self.fc3 = nn.Linear(fc2_units, fc3_units)\n",
    "#         self.fc4 = nn.Linear(fc3_units, 1)\n",
    "#         self.reset_parameters()\n",
    "\n",
    "#     def reset_parameters(self):\n",
    "#         self.fcs1.weight.data.uniform_(*hidden_init(self.fcs1))\n",
    "#         self.fc2.weight.data.uniform_(*hidden_init(self.fc2))\n",
    "#         self.fc3.weight.data.uniform_(*hidden_init(self.fc3))\n",
    "#         self.fc4.weight.data.uniform_(-3e-3, 3e-3)\n",
    "\n",
    "#     def forward(self, state, action):\n",
    "#         \"\"\"Build a critic (value) network that maps (state, action) pairs -> Q-values.\"\"\"\n",
    "#         xs = F.leaky_relu(self.fcs1(state))\n",
    "#         x = torch.cat((xs, action), dim=1)\n",
    "#         x = F.leaky_relu(self.fc2(x))\n",
    "#         x = F.leaky_relu(self.fc3(x))\n",
    "#         return self.fc4(x)"
   ]
  },
  {
   "cell_type": "code",
   "execution_count": 16,
   "metadata": {},
   "outputs": [],
   "source": [
    "# BUFFER_SIZE = int(1e6) # replay buffer size\n",
    "# BATCH_SIZE = 256       # minibatch size\n",
    "# GAMMA = 0.9            # discount factor\n",
    "# TAU = 1e-3             # for soft update of target parameters\n",
    "# LR_ACTOR = 1e-3        # learning rate of the actor\n",
    "# LR_CRITIC = 1e-3       # learning rate of the critic\n",
    "# WEIGHT_DECAY = 0.0     # L2 weight decay\n",
    "\n",
    "# device = torch.device(\"cuda:0\" if torch.cuda.is_available() else \"cpu\")"
   ]
  },
  {
   "cell_type": "code",
   "execution_count": 17,
   "metadata": {},
   "outputs": [],
   "source": [
    "# class Agent():\n",
    "#     \"\"\"Interacts with and learns from the environment.\"\"\"\n",
    "    \n",
    "#     def __init__(self, state_size, action_size, random_seed):\n",
    "#         \"\"\"Initialize an Agent object.\n",
    "        \n",
    "#         Params\n",
    "#         ======\n",
    "#             state_size (int): dimension of each state\n",
    "#             action_size (int): dimension of each action\n",
    "#             random_seed (int): random seed\n",
    "#         \"\"\"\n",
    "#         self.state_size = state_size\n",
    "#         self.action_size = action_size\n",
    "#         self.seed = random.seed(random_seed)\n",
    "\n",
    "#         # Actor Network (w/ Target Network)\n",
    "#         self.actor_local = Actor(state_size, action_size, random_seed).to(device)\n",
    "#         self.actor_target = Actor(state_size, action_size, random_seed).to(device)\n",
    "#         self.actor_optimizer = optim.Adam(self.actor_local.parameters(), lr=LR_ACTOR)\n",
    "\n",
    "#         # Critic Network (w/ Target Network)\n",
    "#         self.critic_local = Critic(state_size, action_size, random_seed).to(device)\n",
    "#         self.critic_target = Critic(state_size, action_size, random_seed).to(device)\n",
    "#         self.critic_optimizer = optim.Adam(self.critic_local.parameters(), lr=LR_CRITIC, weight_decay=WEIGHT_DECAY)\n",
    "\n",
    "#         # Noise process\n",
    "#         self.noise = OUNoise(action_size, random_seed)\n",
    "\n",
    "#         # Replay memory\n",
    "#         self.memory = ReplayBuffer(action_size, BUFFER_SIZE, BATCH_SIZE, random_seed)\n",
    "    \n",
    "#     def step(self, state, action, reward, next_state, done):\n",
    "#         \"\"\"Save experience in replay memory, and use random sample from buffer to learn.\"\"\"\n",
    "#         # Save experience / reward\n",
    "#         self.memory.add(state, action, reward, next_state, done)\n",
    "\n",
    "#         # Learn, if enough samples are available in memory\n",
    "#         if len(self.memory) > BATCH_SIZE:\n",
    "#             experiences = self.memory.sample()\n",
    "#             self.learn(experiences, GAMMA)\n",
    "\n",
    "#     def act(self, state, add_noise=True):\n",
    "#         \"\"\"Returns actions for given state as per current policy.\"\"\"\n",
    "#         state = torch.from_numpy(state).float().to(device)\n",
    "#         self.actor_local.eval()\n",
    "#         with torch.no_grad():\n",
    "#             action = self.actor_local(state).cpu().data.numpy()\n",
    "#         self.actor_local.train()\n",
    "#         if add_noise:\n",
    "#             action += self.noise.sample()\n",
    "#         return np.clip(action, -1, 1)\n",
    "\n",
    "#     def reset(self):\n",
    "#         self.noise.reset()\n",
    "\n",
    "#     def learn(self, experiences, gamma):\n",
    "#         \"\"\"Update policy and value parameters using given batch of experience tuples.\n",
    "#         Q_targets = r + γ * critic_target(next_state, actor_target(next_state))\n",
    "#         where:\n",
    "#             actor_target(state) -> action\n",
    "#             critic_target(state, action) -> Q-value\n",
    "#         Params\n",
    "#         ======\n",
    "#             experiences (Tuple[torch.Tensor]): tuple of (s, a, r, s', done) tuples \n",
    "#             gamma (float): discount factor\n",
    "#         \"\"\"\n",
    "#         states, actions, rewards, next_states, dones = experiences\n",
    "\n",
    "#         # ---------------------------- update critic ---------------------------- #\n",
    "#         # Get predicted next-state actions and Q values from target models\n",
    "#         actions_next = self.actor_target(next_states)\n",
    "#         Q_targets_next = self.critic_target(next_states, actions_next)\n",
    "#         # Compute Q targets for current states (y_i)\n",
    "#         Q_targets = rewards + (gamma * Q_targets_next * (1 - dones))\n",
    "#         # Compute critic loss\n",
    "#         Q_expected = self.critic_local(states, actions)\n",
    "#         critic_loss = F.mse_loss(Q_expected, Q_targets)\n",
    "#         # Minimize the loss\n",
    "#         self.critic_optimizer.zero_grad()\n",
    "#         critic_loss.backward()\n",
    "#         torch.nn.utils.clip_grad_norm_(self.critic_local.parameters(), 1)\n",
    "#         self.critic_optimizer.step()\n",
    "\n",
    "#         # ---------------------------- update actor ---------------------------- #\n",
    "#         # Compute actor loss\n",
    "#         actions_pred = self.actor_local(states)\n",
    "#         actor_loss = -self.critic_local(states, actions_pred).mean()\n",
    "#         # Minimize the loss\n",
    "#         self.actor_optimizer.zero_grad()\n",
    "#         actor_loss.backward()\n",
    "#         self.actor_optimizer.step()\n",
    "\n",
    "#         # ----------------------- update target networks ----------------------- #\n",
    "#         self.soft_update(self.critic_local, self.critic_target, TAU)\n",
    "#         self.soft_update(self.actor_local, self.actor_target, TAU)                     \n",
    "\n",
    "#     def soft_update(self, local_model, target_model, tau):\n",
    "#         \"\"\"Soft update model parameters.\n",
    "#         θ_target = τ*θ_local + (1 - τ)*θ_target\n",
    "#         Params\n",
    "#         ======\n",
    "#             local_model: PyTorch model (weights will be copied from)\n",
    "#             target_model: PyTorch model (weights will be copied to)\n",
    "#             tau (float): interpolation parameter \n",
    "#         \"\"\"\n",
    "#         for target_param, local_param in zip(target_model.parameters(), local_model.parameters()):\n",
    "#             target_param.data.copy_(tau*local_param.data + (1.0-tau)*target_param.data)\n",
    "\n",
    "# class OUNoise:\n",
    "#     \"\"\"Ornstein-Uhlenbeck process.\"\"\"\n",
    "\n",
    "#     def __init__(self, size, seed, mu=0., theta=0.15, sigma=0.01):\n",
    "#         \"\"\"Initialize parameters and noise process.\"\"\"\n",
    "#         self.mu = mu * np.ones(size)\n",
    "#         self.theta = theta\n",
    "#         self.sigma = sigma\n",
    "#         self.seed = random.seed(seed)\n",
    "#         self.reset()\n",
    "\n",
    "#     def reset(self):\n",
    "#         \"\"\"Reset the internal state (= noise) to mean (mu).\"\"\"\n",
    "#         self.state = copy.copy(self.mu)\n",
    "\n",
    "#     def sample(self):\n",
    "#         \"\"\"Update internal state and return it as a noise sample.\"\"\"\n",
    "#         x = self.state\n",
    "#         dx = self.theta * (self.mu - x) + self.sigma * np.array([random.random() for i in range(len(x))])\n",
    "#         self.state = x + dx\n",
    "#         return self.state\n",
    "\n",
    "# class ReplayBuffer:\n",
    "#     \"\"\"Fixed-size buffer to store experience tuples.\"\"\"\n",
    "\n",
    "#     def __init__(self, action_size, buffer_size, batch_size, seed):\n",
    "#         \"\"\"Initialize a ReplayBuffer object.\n",
    "#         Params\n",
    "#         ======\n",
    "#             buffer_size (int): maximum size of buffer\n",
    "#             batch_size (int): size of each training batch\n",
    "#         \"\"\"\n",
    "#         self.action_size = action_size\n",
    "#         self.memory = deque(maxlen=buffer_size)  # internal memory (deque)\n",
    "#         self.batch_size = batch_size\n",
    "#         self.experience = namedtuple(\"Experience\", field_names=[\"state\", \"action\", \"reward\", \"next_state\", \"done\"])\n",
    "#         self.seed = random.seed(seed)\n",
    "    \n",
    "#     def add(self, state, action, reward, next_state, done):\n",
    "#         \"\"\"Add a new experience to memory.\"\"\"\n",
    "#         e = self.experience(state, action, reward, next_state, done)\n",
    "#         self.memory.append(e)\n",
    "    \n",
    "#     def sample(self):\n",
    "#         \"\"\"Randomly sample a batch of experiences from memory.\"\"\"\n",
    "#         experiences = random.sample(self.memory, k=self.batch_size)\n",
    "\n",
    "#         states = torch.from_numpy(np.vstack([e.state for e in experiences if e is not None])).float().to(device)\n",
    "#         actions = torch.from_numpy(np.vstack([e.action for e in experiences if e is not None])).float().to(device)\n",
    "#         rewards = torch.from_numpy(np.vstack([e.reward for e in experiences if e is not None])).float().to(device)\n",
    "#         next_states = torch.from_numpy(np.vstack([e.next_state for e in experiences if e is not None])).float().to(device)\n",
    "#         dones = torch.from_numpy(np.vstack([e.done for e in experiences if e is not None]).astype(np.uint8)).float().to(device)\n",
    "\n",
    "#         return (states, actions, rewards, next_states, dones)\n",
    "\n",
    "#     def __len__(self):\n",
    "#         \"\"\"Return the current size of internal memory.\"\"\"\n",
    "#         return len(self.memory)"
   ]
  },
  {
   "cell_type": "code",
   "execution_count": 18,
   "metadata": {},
   "outputs": [],
   "source": [
    "# agent = Agent(state_size=33, action_size=4, random_seed=2)"
   ]
  },
  {
   "cell_type": "code",
   "execution_count": 19,
   "metadata": {},
   "outputs": [],
   "source": [
    "# def ddpg(n_episodes=2000):\n",
    "#     scores_deque = deque(maxlen=100)\n",
    "#     scores = []\n",
    "#     env_info = env.reset(train_mode=True)[brain_name]          # reset the environment\n",
    "#     for i_episode in range(1, n_episodes+1):\n",
    "#         state = env_info.vector_observations[0]                # get the current state (for each agent)\n",
    "#         agent.reset()\n",
    "#         score = 0\n",
    "#         while True:\n",
    "#             action = agent.act(state)\n",
    "#             env_info = env.step(action)[brain_name]            # send all actions to the environment\n",
    "#             next_state = env_info.vector_observations[0]       # get next state (for each agent)\n",
    "#             reward = env_info.rewards[0]                       # get reward (for each agent)\n",
    "#             done = env_info.local_done[0]                      # see if episode finished\n",
    "#             agent.step(state, action, reward, next_state, done)\n",
    "#             state = next_state\n",
    "#             score += reward\n",
    "#             if done:\n",
    "#                 break \n",
    "#         scores_deque.append(score)\n",
    "#         scores.append(score)\n",
    "#         print('\\rEpisode {}\\tAverage Score: {:.2f}'.format(i_episode, np.mean(scores_deque)), end=\"\")\n",
    "#         if i_episode % 100 == 0:\n",
    "#             print('\\rEpisode {}\\tAverage Score: {:.2f}'.format(i_episode, np.mean(scores_deque)))\n",
    "#         if np.mean(scores_deque) >= 30.0:\n",
    "#             print('\\n Environment solved in {:d} episodes!\\tAverage Score: {:.2f}'.format(i_episode-100, np.mean(scores_deque)))\n",
    "#             torch.save(agent.actor_local.state_dict(), 'checkpoint_actor.pth')\n",
    "#             torch.save(agent.critic_local.state_dict(), 'checkpoint_critic.pth')\n",
    "#             break   \n",
    "#     return scores"
   ]
  },
  {
   "cell_type": "code",
   "execution_count": 20,
   "metadata": {
    "scrolled": false
   },
   "outputs": [
    {
     "name": "stdout",
     "output_type": "stream",
     "text": [
      "Episode 100\tAverage Score: 5.16\n",
      "Episode 200\tAverage Score: 28.50\n",
      "Episode 206\tAverage Score: 30.09\n",
      " Environment solved in 106 episodes!\tAverage Score: 30.09\n"
     ]
    }
   ],
   "source": [
    "# scores = ddpg()"
   ]
  },
  {
   "cell_type": "markdown",
   "metadata": {},
   "source": [
    "### Till here"
   ]
  },
  {
   "cell_type": "markdown",
   "metadata": {},
   "source": [
    "Importing the class Agent from *ddpg_agent*. "
   ]
  },
  {
   "cell_type": "code",
   "execution_count": 7,
   "metadata": {},
   "outputs": [],
   "source": [
    "from ddpg_agent import Agent"
   ]
  },
  {
   "cell_type": "markdown",
   "metadata": {},
   "source": [
    "Creating an object *agent* of the class **Agent**"
   ]
  },
  {
   "cell_type": "code",
   "execution_count": 8,
   "metadata": {},
   "outputs": [],
   "source": [
    "# BUFFER_SIZE = int(1e6) # replay buffer size\n",
    "# BATCH_SIZE = 256       # minibatch size\n",
    "# GAMMA = 0.9            # discount factor\n",
    "# TAU = 1e-3             # for soft update of target parameters\n",
    "# LR_ACTOR = 1e-3        # learning rate of the actor\n",
    "# LR_CRITIC = 1e-3       # learning rate of the critic\n",
    "# WEIGHT_DECAY = 0.0     # L2 weight decay\n",
    "\n",
    "# device = torch.device(\"cuda:0\" if torch.cuda.is_available() else \"cpu\")"
   ]
  },
  {
   "cell_type": "code",
   "execution_count": 8,
   "metadata": {
    "scrolled": false
   },
   "outputs": [],
   "source": [
    "agent = Agent(state_size=state_size, action_size=action_size, random_seed=2)"
   ]
  },
  {
   "cell_type": "markdown",
   "metadata": {},
   "source": [
    "Training the Agent"
   ]
  },
  {
   "cell_type": "code",
   "execution_count": 9,
   "metadata": {},
   "outputs": [],
   "source": [
    "def ddpg(n_episodes=2000):\n",
    "    scores_deque = deque(maxlen=100)\n",
    "    scores = []\n",
    "    env_info = env.reset(train_mode=True)[brain_name]          # reset the environment\n",
    "    for i_episode in range(1, n_episodes+1):\n",
    "        state = env_info.vector_observations[0]                # get the current state (for each agent)\n",
    "        agent.reset()\n",
    "        score = 0\n",
    "        while True:\n",
    "            action = agent.act(state)\n",
    "            env_info = env.step(action)[brain_name]            # send all actions to the environment\n",
    "            next_state = env_info.vector_observations[0]       # get next state (for each agent)\n",
    "            reward = env_info.rewards[0]                       # get reward (for each agent)\n",
    "            done = env_info.local_done[0]                      # see if episode finished\n",
    "            agent.step(state, action, reward, next_state, done)\n",
    "            state = next_state\n",
    "            score += reward\n",
    "            if done:\n",
    "                break \n",
    "        scores_deque.append(score)\n",
    "        scores.append(score)\n",
    "        print('\\rEpisode {}\\tAverage Score: {:.2f}'.format(i_episode, np.mean(scores_deque)), end=\"\")\n",
    "        if i_episode % 100 == 0:\n",
    "            print('\\rEpisode {}\\tAverage Score: {:.2f}'.format(i_episode, np.mean(scores_deque)))\n",
    "        if np.mean(scores_deque) >= 30.0:\n",
    "            print('\\n Environment solved in {:d} episodes!\\tAverage Score: {:.2f}'.format(i_episode-100, np.mean(scores_deque)))\n",
    "            torch.save(agent.actor_local.state_dict(), 'checkpoint_actor.pth')\n",
    "            torch.save(agent.critic_local.state_dict(), 'checkpoint_critic.pth')\n",
    "            break   \n",
    "    return scores"
   ]
  },
  {
   "cell_type": "code",
   "execution_count": 10,
   "metadata": {},
   "outputs": [
    {
     "name": "stdout",
     "output_type": "stream",
     "text": [
      "Episode 100\tAverage Score: 5.16\n",
      "Episode 200\tAverage Score: 28.50\n",
      "Episode 206\tAverage Score: 30.09\n",
      " Environment solved in 106 episodes!\tAverage Score: 30.09\n"
     ]
    }
   ],
   "source": [
    "scores = ddpg()"
   ]
  },
  {
   "cell_type": "markdown",
   "metadata": {},
   "source": [
    "Plot the scores"
   ]
  },
  {
   "cell_type": "code",
   "execution_count": 11,
   "metadata": {},
   "outputs": [
    {
     "data": {
      "image/png": "[encoded data removed]",
      "text/plain": [
       "<matplotlib.figure.Figure at 0x7f2f60bf6fd0>"
      ]
     },
     "metadata": {
      "needs_background": "light"
     },
     "output_type": "display_data"
    }
   ],
   "source": [
    "import matplotlib.pyplot as plt\n",
    "%matplotlib inline\n",
    "\n",
    "fig = plt.figure()\n",
    "ax = fig.add_subplot(111)\n",
    "plt.plot(np.arange(1, len(scores) +1), scores)\n",
    "plt.ylabel('Score')\n",
    "plt.xlabel('Episode #')\n",
    "plt.show()"
   ]
  },
  {
   "cell_type": "code",
   "execution_count": 12,
   "metadata": {},
   "outputs": [],
   "source": [
    "env.close()"
   ]
  },
  {
   "cell_type": "code",
   "execution_count": null,
   "metadata": {},
   "outputs": [],
   "source": []
  }
 ],
 "metadata": {
  "kernelspec": {
   "display_name": "Python 3",
   "language": "python",
   "name": "python3"
  },
  "language_info": {
   "codemirror_mode": {
    "name": "ipython",
    "version": 3
   },
   "file_extension": ".py",
   "mimetype": "text/x-python",
   "name": "python",
   "nbconvert_exporter": "python",
   "pygments_lexer": "ipython3",
   "version": "3.6.3"
  }
 },
 "nbformat": 4,
 "nbformat_minor": 2
}
